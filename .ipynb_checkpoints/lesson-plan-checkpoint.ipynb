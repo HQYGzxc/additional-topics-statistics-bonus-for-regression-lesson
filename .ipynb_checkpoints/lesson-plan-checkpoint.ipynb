{
 "cells": [
  {
   "cell_type": "markdown",
   "metadata": {},
   "source": [
    "### Questions"
   ]
  },
  {
   "cell_type": "markdown",
   "metadata": {},
   "source": [
    "### Objectives\n"
   ]
  },
  {
   "cell_type": "markdown",
   "metadata": {},
   "source": [
    "### Lesson Outline:\n",
    "\n",
    "Step: Sample Data Exploration\n",
    "\n",
    "Time: 5 min\n",
    "\n",
    "Goal/Scenario:\n",
    "\n",
    "Let’s do EDA for a regression\n",
    "\n",
    "Learning Goals in sequence:\n",
    "-Look at relationships between predictors, response variable, and other predictors using VIF, scatterplot matrices, ands marginal plots. Determine if a transformation is needed and, if so, for which variables.\n",
    "\n",
    "Step: Box-Cox demonstration, followed by students transforming in small groups\n",
    "\n",
    "Time: 10 min\n",
    "-Demo: Transform one or more predictor to normality, give students some variables to transform\n",
    "\n",
    "Step: Explain AIC and BIC \n",
    "\n",
    "Time: 5 min\n",
    "\n",
    "Student groups explain what each measure means and its application (from pre-reading). Instructor guides as needed.\n",
    "\n",
    "Step: Student Discussion\n",
    "\n",
    "Time: 10 min \n",
    "\n",
    "Given three or four different models to choose from, break into small groups and choose the best one. Share the reasons for their choice to the main group."
   ]
  },
  {
   "cell_type": "code",
   "execution_count": 1,
   "metadata": {},
   "outputs": [],
   "source": [
    "import pandas as pd\n",
    "import numpy as np\n",
    "\n",
    "import matplotlib.pyplot as plt"
   ]
  },
  {
   "cell_type": "markdown",
   "metadata": {},
   "source": [
    "### Assessment"
   ]
  }
 ],
 "metadata": {
  "kernelspec": {
   "display_name": "Python 3",
   "language": "python",
   "name": "python3"
  },
  "language_info": {
   "codemirror_mode": {
    "name": "ipython",
    "version": 3
   },
   "file_extension": ".py",
   "mimetype": "text/x-python",
   "name": "python",
   "nbconvert_exporter": "python",
   "pygments_lexer": "ipython3",
   "version": "3.7.3"
  }
 },
 "nbformat": 4,
 "nbformat_minor": 2
}
